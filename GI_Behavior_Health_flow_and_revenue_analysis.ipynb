{
 "cells": [
  {
   "cell_type": "markdown",
   "metadata": {
    "id": "QeD5ySoWXBmq"
   },
   "source": [
    "## GI Behavior Health"
   ]
  },
  {
   "cell_type": "code",
   "execution_count": null,
   "metadata": {
    "colab": {
     "base_uri": "https://localhost:8080/"
    },
    "executionInfo": {
     "elapsed": 3750,
     "status": "ok",
     "timestamp": 1755110324152,
     "user": {
      "displayName": "Z C",
      "userId": "08290059190922259493"
     },
     "user_tz": 240
    },
    "id": "jagHqYUCaAf6",
    "outputId": "4854d39f-f58b-41a6-93d0-2dcb4c9fb2b1"
   },
   "outputs": [],
   "source": [
    "from google.colab import drive\n",
    "drive.mount('/content/drive')\n",
    "\n",
    "# Make the Drive path available to shell commands\n",
    "%env DRIVE_KEY_DIR=/content/drive/MyDrive/ssh_keys\n",
    "\n",
    "# Copy key from Drive to runtime and set perms\n",
    "!mkdir -p ~/.ssh\n",
    "!cp \"$DRIVE_KEY_DIR/id_ed25519\" ~/.ssh/\n",
    "!cp \"$DRIVE_KEY_DIR/id_ed25519.pub\" ~/.ssh/ 2>/dev/null || true\n",
    "!chmod 700 ~/.ssh\n",
    "!chmod 600 ~/.ssh/id_ed25519\n",
    "!chmod 644 ~/.ssh/id_ed25519.pub\n",
    "!ssh-keyscan github.com >> ~/.ssh/known_hosts 2>/dev/null\n",
    "\n",
    "!bash -lc 'eval \"$(ssh-agent -s)\" && ssh-add ~/.ssh/id_ed25519 && ssh-add -l' # Start the agent"
   ]
  },
  {
   "cell_type": "code",
   "execution_count": null,
   "metadata": {
    "colab": {
     "base_uri": "https://localhost:8080/"
    },
    "executionInfo": {
     "elapsed": 2212,
     "status": "ok",
     "timestamp": 1755110330789,
     "user": {
      "displayName": "Z C",
      "userId": "08290059190922259493"
     },
     "user_tz": 240
    },
    "id": "vBKHSpEJqafs",
    "outputId": "94a1173e-feb1-4daa-8bdb-2f0ec8d09393"
   },
   "outputs": [],
   "source": [
    "# Connect colab with Github\n",
    "!ssh -T git@github.com\n"
   ]
  },
  {
   "cell_type": "code",
   "execution_count": null,
   "metadata": {
    "id": "eNTdfCl-YL6y"
   },
   "outputs": [],
   "source": [
    "import pandas as pd\n",
    "import numpy as np\n",
    "import matplotlib.pyplot as plt\n",
    "import seaborn as sns"
   ]
  },
  {
   "cell_type": "code",
   "execution_count": null,
   "metadata": {
    "colab": {
     "base_uri": "https://localhost:8080/",
     "height": 586
    },
    "executionInfo": {
     "elapsed": 5849,
     "status": "ok",
     "timestamp": 1755098304116,
     "user": {
      "displayName": "Z C",
      "userId": "08290059190922259493"
     },
     "user_tz": 240
    },
    "id": "m4BXBMv6W9A2",
    "outputId": "51b29118-d953-4985-dd7b-d00c1f9bc0a4"
   },
   "outputs": [],
   "source": [
    "file_path = '/content/drive/My Drive/GI_Behavior_Health/Data/Patient_Counts_with_Lauren_5 22_copy.xlsx'\n",
    "df = pd.read_excel(file_path, sheet_name = 'Sheet1')\n",
    "# Replace any stray hyphens or other known bad tokens with NaT\n",
    "df.loc[df['Appointment Date'] == '-', 'Appointment Date'] = pd.NaT\n",
    "\n",
    "# Convert to datetime, coercing anything else that still fails into NaT\n",
    "df['Appointment Date'] = pd.to_datetime(df['Appointment Date'], errors='coerce')\n",
    "\n",
    "# Drop the time portion by taking only .date\n",
    "df['Appointment Date'] = df['Appointment Date'].dt.normalize()\n",
    "\n",
    "# (Optional) If you want to remove rows where the date could not be parsed:\n",
    "df = df[df['Appointment Date'].notna()].reset_index(drop=True)\n",
    "\n",
    "# Verify\n",
    "print(df['Appointment Date'].dtype)   # should now be “object” (Python date) or datetime.date\n",
    "df.head()\n"
   ]
  },
  {
   "cell_type": "code",
   "execution_count": null,
   "metadata": {
    "colab": {
     "base_uri": "https://localhost:8080/",
     "height": 586
    },
    "executionInfo": {
     "elapsed": 131,
     "status": "ok",
     "timestamp": 1755098313515,
     "user": {
      "displayName": "Z C",
      "userId": "08290059190922259493"
     },
     "user_tz": 240
    },
    "id": "lBYRxMOeFkMK",
    "outputId": "6dcc2267-06a9-4704-ec69-adc2199b0bcd"
   },
   "outputs": [],
   "source": [
    "allow_status = ['Canceled', 'Completed', 'No Show']\n",
    "filled_df = df[df['Appointment Status'].isin(allow_status)]\n",
    "print(\"The number of unique appo types in filled_df is: \",len(filled_df['Appointment Status'].unique()))\n",
    "filled_df.head()"
   ]
  },
  {
   "cell_type": "code",
   "execution_count": null,
   "metadata": {
    "colab": {
     "base_uri": "https://localhost:8080/"
    },
    "executionInfo": {
     "elapsed": 24,
     "status": "ok",
     "timestamp": 1755098317949,
     "user": {
      "displayName": "Z C",
      "userId": "08290059190922259493"
     },
     "user_tz": 240
    },
    "id": "bIrasqBgO7dM",
    "outputId": "bc858928-ae44-42af-840e-c8edb22d4b29"
   },
   "outputs": [],
   "source": [
    "set(df['Appointment Type'])"
   ]
  },
  {
   "cell_type": "code",
   "execution_count": null,
   "metadata": {
    "colab": {
     "base_uri": "https://localhost:8080/"
    },
    "executionInfo": {
     "elapsed": 42,
     "status": "ok",
     "timestamp": 1755098328986,
     "user": {
      "displayName": "Z C",
      "userId": "08290059190922259493"
     },
     "user_tz": 240
    },
    "id": "iEIf2lHaN5FB",
    "outputId": "82c661f2-0925-4249-b4b5-fadf0a44c063"
   },
   "outputs": [],
   "source": [
    "# --------------------\n",
    "# For individual and group appointments, show the number of complete, cancleled, and no show appointments for each year\n",
    "# --------------------\n",
    "\n",
    "import pandas as pd\n",
    "\n",
    "# 1) Make sure your dates are datetimes, and pull out the year\n",
    "df['Year'] = df['Appointment Date'].dt.year\n",
    "\n",
    "# 2) Define which raw types count as “group”\n",
    "group_types = {\n",
    "    'MYD-H SH1 VIDEO VISIT',\n",
    "    'MYD-H SH2 VIDEO VISIT',\n",
    "    'MYD-H GROUP VIDEO VISIT'\n",
    "}\n",
    "\n",
    "df['Appointment Category'] = df['Appointment Type'].apply(\n",
    "    lambda t: 'group appointments' if t in group_types else 'individual appointments'\n",
    ")\n",
    "df = df[df['Year'].isin([2022,2023,2024])]\n",
    "\n",
    "# 3) Crosstab / pivot to get counts\n",
    "summary = pd.crosstab(\n",
    "    index=[df['Year'], df['Appointment Category']],\n",
    "    columns=df['Appointment Status'],\n",
    "    dropna=False\n",
    ").reset_index()\n",
    "\n",
    "print(summary)\n"
   ]
  },
  {
   "cell_type": "code",
   "execution_count": null,
   "metadata": {
    "colab": {
     "base_uri": "https://localhost:8080/"
    },
    "executionInfo": {
     "elapsed": 12,
     "status": "ok",
     "timestamp": 1755099286266,
     "user": {
      "displayName": "Z C",
      "userId": "08290059190922259493"
     },
     "user_tz": 240
    },
    "id": "M8pAUDbECjXk",
    "outputId": "e7a89da2-2869-49ce-d670-a59b9a941e32"
   },
   "outputs": [],
   "source": [
    "# --------------------\n",
    "# For individual and group visits, calculate the total appointments and visits over 3 years (2022,2023,2024).\n",
    "# --------------------\n",
    "\n",
    "import pandas as pd\n",
    "df = summary\n",
    "#df = pd.DataFrame(data)import pandas as pd\n",
    "\n",
    "# Create the DataFrame from the provided data\n",
    "data = {\n",
    "    \"Year\": [2022, 2022, 2023, 2023, 2024, 2024],\n",
    "    \"Appointment Category\": [\n",
    "        \"group appointments\",\n",
    "        \"individual appointments\",\n",
    "        \"group appointments\",\n",
    "        \"individual appointments\",\n",
    "        \"group appointments\",\n",
    "        \"individual appointments\",\n",
    "    ],\n",
    "    \"Arrived\": [0, 0, 5, 0, 4, 0],\n",
    "    \"Canceled\": [687, 115, 658, 243, 829, 538],\n",
    "    \"Completed\": [506, 216, 795, 524, 642, 871],\n",
    "    \"Left without seen\": [0, 2, 0, 3, 0, 3],\n",
    "    \"No Show\": [214, 14, 190, 49, 186, 71],\n",
    "    \"Scheduled\": [0, 0, 0, 54, 0, 109],\n",
    "}\n",
    "\n",
    "df = pd.DataFrame(data)\n",
    "\n",
    "# Compute total appointments (sum across the relevant columns) for each category over all years\n",
    "df[\"Total Appointments\"] = df[[\"Arrived\", \"Canceled\", \"Completed\", \"Left without seen\", \"No Show\", \"Scheduled\"]].sum(axis=1)\n",
    "\n",
    "total_by_category = df.groupby(\"Appointment Category\")[\n",
    "    [\"Arrived\", \"Canceled\", \"Completed\", \"Left without seen\", \"No Show\", \"Scheduled\", \"Total Appointments\"]\n",
    "].sum()\n",
    "\n",
    "# Completed visits totals for each category\n",
    "completed_by_category = df.groupby(\"Appointment Category\")[\"Completed\"].sum()\n",
    "\n",
    "total_by_category, completed_by_category\n",
    "\n"
   ]
  },
  {
   "cell_type": "code",
   "execution_count": null,
   "metadata": {
    "colab": {
     "base_uri": "https://localhost:8080/",
     "height": 993
    },
    "executionInfo": {
     "elapsed": 1114,
     "status": "ok",
     "timestamp": 1750539763849,
     "user": {
      "displayName": "Z C",
      "userId": "08290059190922259493"
     },
     "user_tz": 240
    },
    "id": "40wux6VYRQvJ",
    "outputId": "24816226-e749-410b-df0f-83905fb06705"
   },
   "outputs": [],
   "source": [
    "# --------------------\n",
    "# For individual and group appointments, show the bar plots for the number of complete, cancleled, and no show appointments for each year\n",
    "# --------------------\n",
    "\n",
    "import matplotlib.pyplot as plt\n",
    "import numpy as np\n",
    "import os\n",
    "\n",
    "# 1) parameters\n",
    "statuses = ['Canceled', 'No Show', 'Completed']\n",
    "years    = [2022, 2023, 2024]\n",
    "width    = 0.2\n",
    "x        = np.arange(len(years))\n",
    "\n",
    "# 2) loop over the two categories\n",
    "for category in ['individual appointments', 'group appointments']:\n",
    "    # filter & re‐index by Year\n",
    "    sub = (\n",
    "        summary[summary['Appointment Category'] == category]\n",
    "          .set_index('Year')\n",
    "          .reindex(years)[statuses]\n",
    "    )\n",
    "\n",
    "    # 3) plot\n",
    "    fig, ax = plt.subplots()\n",
    "    for i, status in enumerate(statuses):\n",
    "        ax.bar(x + i*width, sub[status], width, label=status)\n",
    "\n",
    "    ax.set_xticks(x + width)\n",
    "    ax.set_xticklabels(years)\n",
    "    ax.set_xlabel('Year')\n",
    "    ax.set_ylabel('Count')\n",
    "    ax.set_title(f\"{category.title()} — Status by Year\")\n",
    "    ax.legend()\n",
    "    plt.tight_layout()\n",
    "\n",
    "    # --- save the figure ---\n",
    "    # build a safe filename\n",
    "    fname = f\"{category.replace(' ', '_')}_status_by_year.png\"\n",
    "    # optional: show you where it went\n",
    "    print(\"Saving plot to:\", os.path.abspath(fname))\n",
    "    fig.savefig(fname, dpi=300, bbox_inches='tight')\n",
    "\n",
    "    plt.show()\n"
   ]
  },
  {
   "cell_type": "code",
   "execution_count": null,
   "metadata": {
    "colab": {
     "base_uri": "https://localhost:8080/"
    },
    "executionInfo": {
     "elapsed": 11,
     "status": "ok",
     "timestamp": 1750367080854,
     "user": {
      "displayName": "Z C",
      "userId": "08290059190922259493"
     },
     "user_tz": 240
    },
    "id": "1OPringDGvks",
    "outputId": "c1e52a5d-d109-4cf3-c8d0-4fc682beaed1"
   },
   "outputs": [],
   "source": [
    "nrow,ncol = filled_df.shape\n",
    "print(\"The number of rows in filled_df is: \",nrow)\n",
    "print(\"The number of columns in filled_df is: \",ncol)\n",
    "\n",
    "appt_type = filled_df['Appointment Type'].unique()\n",
    "print(appt_type)"
   ]
  },
  {
   "cell_type": "code",
   "execution_count": null,
   "metadata": {
    "colab": {
     "base_uri": "https://localhost:8080/"
    },
    "executionInfo": {
     "elapsed": 45,
     "status": "ok",
     "timestamp": 1750367082840,
     "user": {
      "displayName": "Z C",
      "userId": "08290059190922259493"
     },
     "user_tz": 240
    },
    "id": "31i5shfPH3Ao",
    "outputId": "451bccef-7038-463c-f172-14f4c2529443"
   },
   "outputs": [],
   "source": [
    "def GI_flow(data,year):\n",
    "  '''\n",
    "  Create the patient flow for the GI_Health Project\n",
    "  '''\n",
    "  data = data[data['Appointment Date'].dt.year == year]\n",
    "  # --------------------\n",
    "  # Remove rows that the 'Appointment Type' values should be ignored\n",
    "  # --------------------\n",
    "  appt_type = set(data['Appointment Type'].unique())\n",
    "  types_remove = {'PLACEHOLDER NO COMMUNICATION', 'MYD-H VIDEO VISIT SCF', 'SPECIAL CLINIC NEW', 'MYD-H VIDEO VISIT NO CHARGE',\n",
    "                  'MYD-H VIDEO VISIT NOW', 'PLACEHOLDER VIEW ONLY', 'BILLING ONLY', 'NEW PATIENT', 'FOLLOW UP VISIT'}\n",
    "  appt_newtype = appt_type - types_remove\n",
    "  # Use boolean indexing with .isin() and negate with ~:\n",
    "  data = data[~data['Appointment Type'].isin(types_remove)].reset_index(drop=True)\n",
    "\n",
    "\n",
    "  flow_record_alltype = {}   # Record the flow for all types of appointments\n",
    "  for tp in appt_newtype:\n",
    "    df_current = data[data['Appointment Type'] == tp].reset_index(drop=True)\n",
    "    # Under the current appointment type, for each pt, we record the total number of cancel, complete, and no show\n",
    "    curr_pt = df_current.loc[0,'MRN']\n",
    "    stage_num = 0   # Complete marks the end of the current stage\n",
    "    flow_record = {stage_num: {'no show':0, 'cancel':0, 'complete':0}}   # Flow record for the current appointment type\n",
    "    curr_noshow, curr_cancel, curr_complete = 0,0,0   # Initialize the number of no show, cancel, and comlete for the current patient\n",
    "    for row in range(df_current.shape[0]):\n",
    "      if df_current.loc[row,'MRN'] == curr_pt:\n",
    "        appt_status = df_current.loc[row,'Appointment Status']\n",
    "        if appt_status == 'No Show' and curr_noshow == 0:\n",
    "          flow_record[stage_num]['no show'] += 1\n",
    "        elif appt_status == 'Canceled' and curr_cancel == 0:\n",
    "          flow_record[stage_num]['cancel'] += 1\n",
    "        elif appt_status == 'Completed' and curr_complete == 0:\n",
    "          flow_record[stage_num]['complete'] += 1\n",
    "          stage_num += 1\n",
    "          #print(\"The keys for flow record are: \",flow_record.keys())\n",
    "          if stage_num not in flow_record.keys():\n",
    "            flow_record[stage_num] = {'no show':0, 'cancel':0, 'complete':0}   # If the current stage number is not in flow_record, we create it\n",
    "\n",
    "      else:\n",
    "        stage_num = 0   # For the new patient, initialize the stage number as 0\n",
    "        curr_pt = df_current.loc[row,'MRN']\n",
    "        curr_noshow, curr_cancel, curr_complete = 0,0,0\n",
    "        appt_status = df_current.loc[row,'Appointment Status']\n",
    "        if appt_status == 'No Show':\n",
    "          flow_record[stage_num]['no show'] += 1\n",
    "        elif appt_status == 'Canceled':\n",
    "          flow_record[stage_num]['cancel'] += 1\n",
    "        elif appt_status == 'Completed':\n",
    "          flow_record[stage_num]['complete'] += 1\n",
    "          stage_num += 1\n",
    "          if stage_num not in flow_record.keys():\n",
    "            flow_record[stage_num] = {'no show':0, 'cancel':0, 'complete':0}   # If the current stage number is not in flow_record, we create it\n",
    "\n",
    "    flow_record_alltype[tp] = flow_record # Add the flow of the current type to the aggregating flow dictionary\n",
    "    clean_flow_alltype = {}\n",
    "    for tp, stages in flow_record_alltype.items():\n",
    "        # keep only stages where any of the three counts > 0\n",
    "        cleaned_stages = {\n",
    "            stage: counts\n",
    "            for stage, counts in stages.items()\n",
    "            if any(v > 0 for v in counts.values())\n",
    "        }\n",
    "        clean_flow_alltype[tp] = cleaned_stages\n",
    "\n",
    "  return clean_flow_alltype\n",
    "\n",
    "\n",
    "# Check the flow for all types of appointments\n",
    "flow_alltypes = GI_flow(filled_df, 2022)\n",
    "print(flow_alltypes)\n",
    "\n",
    "\n",
    "\n",
    "\n",
    "\n",
    "\n",
    "\n",
    "\n",
    "\n"
   ]
  },
  {
   "cell_type": "code",
   "execution_count": null,
   "metadata": {
    "colab": {
     "base_uri": "https://localhost:8080/"
    },
    "executionInfo": {
     "elapsed": 2187,
     "status": "ok",
     "timestamp": 1750367087891,
     "user": {
      "displayName": "Z C",
      "userId": "08290059190922259493"
     },
     "user_tz": 240
    },
    "id": "ImOr5EBrH2dN",
    "outputId": "768c9b81-3f96-4b4a-f1e7-272014009dbe"
   },
   "outputs": [],
   "source": [
    "# --------------------\n",
    "# Type the output above in different lines to show flow for each appointment type\n",
    "# --------------------\n",
    "import matplotlib.pyplot as plt\n",
    "import os\n",
    "\n",
    "# Optional: Create a directory to save the plots\n",
    "output_dir = \"appointment_type_plots\"\n",
    "os.makedirs(output_dir, exist_ok=True)\n",
    "\n",
    "for tp in flow_alltypes.keys():\n",
    "  print(f\"The flow for appointment type {tp}: \",flow_alltypes[tp])\n",
    "  #if tp == 'MYD-H SH1 VIDEO VISIT':\n",
    "  # Prepare data\n",
    "  flow = flow_alltypes[tp]\n",
    "  stages = sorted(flow.keys())\n",
    "  apptments = [s+1 for s in stages]\n",
    "  no_show = [flow[s]['no show'] for s in stages]\n",
    "  cancel = [flow[s]['cancel'] for s in stages]\n",
    "  complete = [flow[s]['complete'] for s in stages]\n",
    "\n",
    "  # Plotting\n",
    "  plt.figure()\n",
    "  plt.plot(apptments, no_show, marker='o', label='No Show')\n",
    "  plt.plot(apptments, cancel, marker='o', label='Cancel')\n",
    "  plt.plot(apptments, complete, marker='o', label='Complete')\n",
    "  plt.xlabel('Appointment')\n",
    "  plt.ylabel('Count')\n",
    "  plt.title(f'Flow for Appointment Type: {tp}')\n",
    "  plt.xticks(apptments)\n",
    "  plt.legend()\n",
    "\n",
    "  # Sanitize filename and save\n",
    "  safe_tp = tp.replace(\" \", \"_\").replace(\"/\", \"_\").replace(\":\", \"_\")\n",
    "  filepath = os.path.join(output_dir, f\"{safe_tp}.png\")\n",
    "  plt.savefig(filepath)\n",
    "  plt.close()  # Close the plot to save memory\n",
    "\n",
    "  plt.show()"
   ]
  },
  {
   "cell_type": "code",
   "execution_count": null,
   "metadata": {
    "colab": {
     "base_uri": "https://localhost:8080/",
     "height": 17
    },
    "executionInfo": {
     "elapsed": 50,
     "status": "ok",
     "timestamp": 1750367097799,
     "user": {
      "displayName": "Z C",
      "userId": "08290059190922259493"
     },
     "user_tz": 240
    },
    "id": "gcMWi61IDOIP",
    "outputId": "dc2fad20-604c-4fca-c8c8-93274d2c9a05"
   },
   "outputs": [],
   "source": [
    "# --------------------\n",
    "# Download the appointment plots for all appointment types\n",
    "# --------------------\n",
    "import shutil\n",
    "from google.colab import files\n",
    "\n",
    "shutil.make_archive('appointment_type_plots', 'zip', 'appointment_type_plots')\n",
    "files.download('appointment_type_plots.zip')\n",
    "\n"
   ]
  },
  {
   "cell_type": "markdown",
   "metadata": {
    "id": "I6zcDH9Ezrlz"
   },
   "source": [
    "# **Revenue and cost calculation**\n",
    "(1) Ignored: bottom 5 vivist types, special clinic new, visit SCF, no charge, placeholder no communication \\\\\n",
    "(2) SH1 (group visit, 60min): first session, SH2 (60min): 2,3, and 4th session \\\\\n",
    "(3) First individual visit: 60min, indivisdual following viists: 30, 45, or 60min (assume they follow proprotion of total visits) \\\\\n",
    "(4) Revenue and cost : cauculate on a yearly basis (so Jessica can see if its in the right direction) \\\\\n",
    "\n",
    "\n",
    "\n"
   ]
  },
  {
   "cell_type": "code",
   "execution_count": null,
   "metadata": {
    "colab": {
     "base_uri": "https://localhost:8080/",
     "height": 668
    },
    "executionInfo": {
     "elapsed": 1281,
     "status": "ok",
     "timestamp": 1749160764981,
     "user": {
      "displayName": "Z C",
      "userId": "08290059190922259493"
     },
     "user_tz": 240
    },
    "id": "a3G8tmilDLgr",
    "outputId": "127da8ef-93f7-4ae0-bdce-57f3b2c689e5"
   },
   "outputs": [],
   "source": [
    "# --------------------\n",
    "# The function to calculate yearly revenue\n",
    "# Assumption: Only complete appointments can generate revenue\n",
    "# indi_ratio: Within individual appointments, the ratio of 60-min, 45-min, and 30-min appointments. The result is obtained from the function\n",
    "# 'def ratio_calculator(df)' in GI Behavior Health.\n",
    "# --------------------\n",
    "\n",
    "def revenue(data, year, rvu, rate, indi_ratio):\n",
    "  group_rvu = rvu[0]\n",
    "  indivi_rvu = rvu[1]\n",
    "  group_types = {'MYD-H SH1 VIDEO VISIT', 'MYD-H SH2 VIDEO VISIT', 'MYD-H GROUP VIDEO VISIT'}\n",
    "  flow_alltypes = GI_flow(data, year)\n",
    "  group_appts = 0\n",
    "  indivi_appts = 0\n",
    "\n",
    "  for types in flow_alltypes.keys():\n",
    "    if types in group_types:\n",
    "      group_appts += sum(appt_info['complete'] for appt_info in flow_alltypes[types].values())\n",
    "    else:\n",
    "      indivi_appts += sum(appt_info['complete'] for appt_info in flow_alltypes[types].values())\n",
    "\n",
    "  group_revenue = group_appts * group_rvu * rate\n",
    "  indivi_revenue = (indivi_appts * indi_ratio[0]*indivi_rvu[0] + indivi_appts * indi_ratio[1]*indivi_rvu[1]\n",
    "                   + indivi_appts * indi_ratio[2]*indivi_rvu[2])*rate\n",
    "  total_revenue = group_revenue + indivi_revenue\n",
    "  # total_revenue = (group_appts * group_rvu + indivi_appts * indi_ratio[0]*indivi_rvu[0] + indivi_appts * indi_ratio[1]*indivi_rvu[1]\n",
    "  #                  + indivi_appts * indi_ratio[2]*indivi_rvu[2])*rate   # Need update\n",
    "  print(f\"The total revenue in {year} is: {total_revenue}\")\n",
    "\n",
    "  return total_revenue, group_revenue, indivi_revenue\n",
    "\n",
    "# Generate total revenue, group revenue, and individual revenue from 2022 to 2024\n",
    "group_revenue = []\n",
    "indivi_revenue = []\n",
    "for year in [2022,2023,2024]:\n",
    "  data, rvu, rate, indi_ratio = filled_df, [0.65,[3.84,2.45,1.86]], 32.74, [0.6834170854271356, 0.10050251256281408, 0.21608040201005024]\n",
    "  total_revenue = revenue(data, year, rvu, rate, indi_ratio)[0]\n",
    "  group_revenue.append(revenue(data, year, rvu, rate, indi_ratio)[1])\n",
    "  indivi_revenue.append(revenue(data, year, rvu, rate, indi_ratio)[2])\n",
    "\n",
    "# Plot the group and individual revenue from 2022 to 2024\n",
    "years = ['2022', '2023', '2024']\n",
    "x = np.arange(len(years))  # the label locations\n",
    "width = 0.35  # the width of the bars\n",
    "\n",
    "# Create the plot\n",
    "plt.figure(figsize=(8, 5))\n",
    "plt.bar(x - width/2, indivi_revenue, width, label='Individual Revenue')\n",
    "plt.bar(x + width/2, group_revenue, width, label='Group Revenue')\n",
    "\n",
    "# Labels and formatting\n",
    "plt.xlabel('Year')\n",
    "plt.ylabel('Revenue ($)')\n",
    "plt.title('Individual vs Group Revenue (2022–2024)')\n",
    "plt.xticks(x, years)\n",
    "plt.legend()\n",
    "plt.tight_layout()\n",
    "#plt.grid(axis='y', linestyle='--', alpha=0.7)\n",
    "plt.show()\n",
    "\n",
    "\n",
    "\n"
   ]
  },
  {
   "cell_type": "code",
   "execution_count": null,
   "metadata": {
    "colab": {
     "base_uri": "https://localhost:8080/",
     "height": 578
    },
    "executionInfo": {
     "elapsed": 191,
     "status": "ok",
     "timestamp": 1749161160359,
     "user": {
      "displayName": "Z C",
      "userId": "08290059190922259493"
     },
     "user_tz": 240
    },
    "id": "P6_iI4IbPCm5",
    "outputId": "acd691e9-80bd-42cd-d2e0-d3f6058736be"
   },
   "outputs": [],
   "source": [
    "# --------------------\n",
    "# The function to calculate yearly cost\n",
    "# Assumptions:\n",
    "# (1) Monthly full time salary of attending is $8,000, full time fellow is $6,000, and full time intern is $2,400.\n",
    "# (2) If a provider works part time (say 40%), then the monthly salary is: full time salary * ratio of commitment = full time salary * 40%\n",
    "# --------------------\n",
    "\n",
    "cost_byyear = {}\n",
    "# 2022 total attending, fellow, and intern hours\n",
    "total_attend_cost_2022 = 12*8000*0.25\n",
    "total_fellow_cost_2022 = 3*6000*0.4\n",
    "total_intern_cost_2022 = 0\n",
    "cost_byyear[2022] = [total_attend_cost_2022, total_fellow_cost_2022, total_intern_cost_2022]\n",
    "\n",
    "# 2023 total attending, fellow, and intern hours\n",
    "total_attend_cost_2023 = (1*8000*0.25 + 1*8000*0.15 + 4*8000*0.05 + 6*8000*0.03) + (2*8000*1)\n",
    "total_fellow_cost_2023 = (8*6000*0.4 + 1*6000*0.55) + (3*6000*0.4)\n",
    "total_intern_cost_2023 = (5*2400*0.2)\n",
    "cost_byyear[2023] = [total_attend_cost_2023, total_fellow_cost_2023, total_intern_cost_2023]\n",
    "\n",
    "# 2024 total attending, fellow, and intern hours\n",
    "total_attend_cost_2024 = (6*8000*0.03 + 6*8000*0.11) + (3*8000*1 + 1*8000*0.64 + 2*8000*1 + 2*8000*0.73 + 1*8000*0.83 + 3*8000*0.68)\n",
    "total_fellow_cost_2024 = (9*6000*0.4) + (4*6000*0.4)\n",
    "total_intern_cost_2024 = (6*2400*0.2)\n",
    "cost_byyear[2024] = [total_attend_cost_2024, total_fellow_cost_2024, total_intern_cost_2024]\n",
    "\n",
    "print(cost_byyear)\n",
    "for year in cost_byyear.keys():\n",
    "  total_cost = sum(cost_byyear[year])\n",
    "  print(f\"The total cost in {year} is: {total_cost}\")\n",
    "\n",
    "# Plot the cost of attending, fellow, and intern for each year\n",
    "years = [2022, 2023, 2024]\n",
    "x = np.arange(len(years))\n",
    "attending = [cost_byyear[y][0] for y in years]\n",
    "fellow = [cost_byyear[y][1] for y in years]\n",
    "intern = [cost_byyear[y][2] for y in years]\n",
    "\n",
    "plt.figure(figsize=(8, 5))\n",
    "plt.bar(x, attending, label='Attending')\n",
    "plt.bar(x, fellow, bottom=attending, label='Fellow')\n",
    "plt.bar(x, intern, bottom=np.array(attending) + np.array(fellow), label='Intern')\n",
    "\n",
    "plt.xlabel('Year')\n",
    "plt.ylabel('Total Cost ($)')\n",
    "plt.title('Total Cost by Provider Type (2022–2024)')\n",
    "plt.xticks(x, [str(y) for y in years])\n",
    "plt.legend()\n",
    "plt.tight_layout()\n",
    "plt.show()\n",
    "\n",
    "\n",
    "\n",
    "\n",
    "\n",
    "\n",
    "\n",
    "\n",
    "\n",
    "\n",
    "\n"
   ]
  },
  {
   "cell_type": "code",
   "execution_count": null,
   "metadata": {
    "colab": {
     "base_uri": "https://localhost:8080/"
    },
    "executionInfo": {
     "elapsed": 6,
     "status": "ok",
     "timestamp": 1748983287300,
     "user": {
      "displayName": "Z C",
      "userId": "08290059190922259493"
     },
     "user_tz": 240
    },
    "id": "23-1X9TtR_qj",
    "outputId": "1b9d69a7-a8d1-4e1c-be33-aa28da8805ba"
   },
   "outputs": [],
   "source": [
    "import pandas as pd\n",
    "\n",
    "# Construct the data\n",
    "def summary_generator(year, revenue, cost):\n",
    "  data = {\n",
    "    \"Year\": year,\n",
    "    \"Revenue\": revenue,\n",
    "    \"Cost\": cost\n",
    "}\n",
    "  # Create DataFrame\n",
    "  df_summary = pd.DataFrame(data)\n",
    "  df_summary['Profit'] = df_summary['Revenue'] - df_summary['Cost']\n",
    "  return df_summary\n",
    "\n",
    "df_summary = summary_generator([2022, 2023, 2024], [33803.37545728643, 72738.55177788944, 93910.5736442211], [31200.0, 54340.0, 120560.0])\n",
    "print(\"The sumamry table is: \")\n",
    "print(df_summary)\n"
   ]
  },
  {
   "cell_type": "markdown",
   "metadata": {
    "id": "uDDDJFgfRWvo"
   },
   "source": []
  },
  {
   "cell_type": "code",
   "execution_count": null,
   "metadata": {
    "id": "Wz29FTlVDLeV"
   },
   "outputs": [],
   "source": [
    "# group rvu: 0.65\n",
    "# individual 1h rvu: 3.84\n",
    "# individual 45min rvu: 2.45\n",
    "# individual 30min rvu: 1.86"
   ]
  },
  {
   "cell_type": "code",
   "execution_count": null,
   "metadata": {
    "colab": {
     "base_uri": "https://localhost:8080/"
    },
    "executionInfo": {
     "elapsed": 613,
     "status": "ok",
     "timestamp": 1755099645549,
     "user": {
      "displayName": "Z C",
      "userId": "08290059190922259493"
     },
     "user_tz": 240
    },
    "id": "e3LG0_1gDLbe",
    "outputId": "cc8a4c91-f86d-4677-964e-71a9812ecaad"
   },
   "outputs": [],
   "source": [
    "!git clone https://github.com/VincctsentChen/Patient_Flow_Analysis.git"
   ]
  },
  {
   "cell_type": "code",
   "execution_count": null,
   "metadata": {
    "colab": {
     "base_uri": "https://localhost:8080/"
    },
    "executionInfo": {
     "elapsed": 7618,
     "status": "ok",
     "timestamp": 1755110355479,
     "user": {
      "displayName": "Z C",
      "userId": "08290059190922259493"
     },
     "user_tz": 240
    },
    "id": "_INWsnv7F2g7",
    "outputId": "6498c8bb-215c-4548-da2e-a94e462f8f90"
   },
   "outputs": [],
   "source": [
    "# 0) Go to the folder that contains your files\n",
    "%cd '/content/drive/My Drive/GI_Behavior_Health/'\n",
    "\n",
    "# Initialize a repo\n",
    "#!git init\n",
    "\n",
    "# (Optional) set default branch name\n",
    "#!git branch -M main\n",
    "\n",
    "\n",
    "# Configure your Git identity\n",
    "!git config --global user.email \"zequn.chen.th@dartmouth.edu\"\n",
    "!git config --global user.name \"VincctsentChen\"\n",
    "\n",
    "# Add your remote repo (HTTPS method)\n",
    "!git remote add origin https://github.com/VincctsentChen/Patient_Flow_Analysis.git\n",
    "\n",
    "# Clear all cell outputs in-place\n",
    "!jupyter nbconvert --ClearOutputPreprocessor.enabled=True --inplace GI_Behavior_Health_flow_and_revenue_analysis.ipynb\n",
    "\n",
    "# Stage and commit changes\n",
    "!git add .\n",
    "!git commit -m \"Remove unnecessary comments\"\n",
    "# Pull the latest repo from Github\n",
    "!git pull --rebase origin main\n",
    "# Push changes (will ask for username/token)\n",
    "!git push origin main\n"
   ]
  },
  {
   "cell_type": "code",
   "execution_count": null,
   "metadata": {
    "colab": {
     "base_uri": "https://localhost:8080/"
    },
    "executionInfo": {
     "elapsed": 3544,
     "status": "ok",
     "timestamp": 1755112879602,
     "user": {
      "displayName": "Z C",
      "userId": "08290059190922259493"
     },
     "user_tz": 240
    },
    "id": "OKj72qFj4R73",
    "outputId": "e26b0d97-559f-42a7-f159-18f5240fc1e3"
   },
   "outputs": [],
   "source": [
    "# Be in the repo root (the one that has .git/)\n",
    "%cd \"/content/drive/MyDrive/GI_Behavior_Health\"\n",
    "\n",
    "# Make sure nbdime is installed\n",
    "!pip install -q nbdime\n",
    "\n",
    "# Does the file exist *in git history*?\n",
    "!git log --oneline -- GI_Behavior_Health_flow_and_revenue_analysis.ipynb | head\n"
   ]
  },
  {
   "cell_type": "code",
   "execution_count": null,
   "metadata": {
    "colab": {
     "base_uri": "https://localhost:8080/"
    },
    "executionInfo": {
     "elapsed": 945,
     "status": "ok",
     "timestamp": 1755113579080,
     "user": {
      "displayName": "Z C",
      "userId": "08290059190922259493"
     },
     "user_tz": 240
    },
    "id": "gSC7Exaq2cIg",
    "outputId": "963dda19-7ac8-4429-b610-b2190ef5918b"
   },
   "outputs": [],
   "source": [
    "# --------------------\n",
    "# compare two commits of the SAME file; ignore outputs & metadata\n",
    "# --------------------\n",
    "\n",
    "!nbdiff --ignore-outputs --ignore-metadata 19a3bda ef67fd2 -- GI_Behavior_Health_flow_and_revenue_analysis.ipynb\n"
   ]
  }
 ],
 "metadata": {
  "accelerator": "GPU",
  "colab": {
   "authorship_tag": "ABX9TyMkY2VbOIzbdOBKLE/hPT80",
   "gpuType": "T4",
   "provenance": []
  },
  "kernelspec": {
   "display_name": "Python 3",
   "name": "python3"
  },
  "language_info": {
   "name": "python"
  }
 },
 "nbformat": 4,
 "nbformat_minor": 0
}
